{
 "cells": [
  {
   "cell_type": "markdown",
   "metadata": {},
   "source": [
    "My approach to introducing programming concepts is to emphasize that programming is just a tool to apply logic and solve problems. So, I try to have interactive sessions where I ask questions and have the students solve a series of mini-problems, each of which apply a programming concept.\n",
    "\n",
    "This module introduces the students to the basic concepts of programming:\n",
    "\n",
    "1. making decisions with \n",
    "a. if\n",
    "b. if / else\n",
    "c. combining decisions using AND / OR logic\n",
    "\n",
    "2. repetition with loops"
   ]
  },
  {
   "cell_type": "markdown",
   "metadata": {},
   "source": [
    "I start with simple IF statements and introduce the idea of a variable. For my discussions, I try to use examples that are familiar to the students. Letter grades (A, B, C, D, F) and scores ranges (>= 90: A, 80-90: B, etc) are usually standardized and well known to the students.\n",
    "\n",
    "For emojis, need to install the emoji library as follows:\n",
    "!pip install emoji"
   ]
  },
  {
   "cell_type": "code",
   "execution_count": null,
   "metadata": {
    "collapsed": false
   },
   "outputs": [],
   "source": [
    "!pip install emoji"
   ]
  },
  {
   "cell_type": "code",
   "execution_count": null,
   "metadata": {
    "collapsed": false
   },
   "outputs": [],
   "source": [
    "import emoji\n",
    "\n",
    "grade = input('Please enter a letter grade: ')\n",
    "\n",
    "if (grade == 'A'):\n",
    "    print(emoji.emojize(':smile:', use_aliases=True))\n",
    "if (grade == 'B'):\n",
    "    print(emoji.emojize(':satisfied:', use_aliases=True))\n",
    "if (grade == 'C'):\n",
    "    print(emoji.emojize(':disappointed:', use_aliases=True))\n",
    "if (grade == 'D'):\n",
    "    print(emoji.emojize(':anguished:', use_aliases=True))\n",
    "if (grade == 'F'):\n",
    "    print(emoji.emojize(':sweat:', use_aliases=True))"
   ]
  },
  {
   "cell_type": "markdown",
   "metadata": {},
   "source": [
    "I then have the students explore why the decision logic fails when using a series of IF statements. Why does a score of 95 result in a D? We will discuss how each condition can have multiple statements and the benefit of storing values in variables (having one print statement over a series of print statements)."
   ]
  },
  {
   "cell_type": "code",
   "execution_count": null,
   "metadata": {
    "collapsed": false
   },
   "outputs": [],
   "source": [
    "score = int(input('Please enter your score: '))\n",
    "\n",
    "if (score >= 90):\n",
    "    letter_grade = 'A'\n",
    "    emoji_symbol = ':smile:' \n",
    "    #print(emoji.emojize(':smile:', use_aliases=True))\n",
    "    \n",
    "if (score >= 80):\n",
    "    letter_grade = 'B'\n",
    "    emoji_symbol = ':satisfied:'\n",
    "    #print(emoji.emojize(':satisfied:', use_aliases=True))\n",
    "    \n",
    "if (score >= 70):\n",
    "    letter_grade = 'C'\n",
    "    emoji_symbol = ':disappointed:'    \n",
    "    #print(emoji.emojize(':disappointed:', use_aliases=True))\n",
    "\n",
    "if (score >= 60):\n",
    "    letter_grade = 'D'\n",
    "    emoji_symbol = ':anguished:'\n",
    "    #print(emoji.emojize(':anguished:', use_aliases=True))\n",
    "\n",
    "if (score < 60):\n",
    "    letter_grade = 'F'\n",
    "    emoji_symbol = ':sweat:'\n",
    "\n",
    "print('Letter grade is ' + letter_grade + ' : ' + emoji.emojize(emoji_symbol, use_aliases=True))"
   ]
  },
  {
   "cell_type": "markdown",
   "metadata": {},
   "source": [
    "At this point, the students' \"tool set\" is limited to just IF statements. Can they figure out how to solve this problem with just this tool set? Can they figure out that they can get the correct grade based on switching the order of the IF statements as follows?"
   ]
  },
  {
   "cell_type": "code",
   "execution_count": null,
   "metadata": {
    "collapsed": false
   },
   "outputs": [],
   "source": [
    "score = int(input('Please enter your score: '))\n",
    "\n",
    "if (score >= 60):\n",
    "    letter_grade = 'D'\n",
    "    emoji_symbol = ':anguished:'\n",
    "\n",
    "if (score >= 70):\n",
    "    letter_grade = 'C'\n",
    "    emoji_symbol = ':disappointed:'\n",
    "\n",
    "if (score >= 80):\n",
    "    letter_grade = 'B'\n",
    "    emoji_symbol = ':satisfied:'\n",
    "\n",
    "if (score >= 90):\n",
    "    letter_grade = 'A'\n",
    "    emoji_symbol = ':smile:'\n",
    "    \n",
    "if (score < 60):\n",
    "    letter_grade = 'F'\n",
    "    emoji_symbol = ':sweat:'\n",
    "\n",
    "print('Letter grade is ' + letter_grade + ' : ' + emoji.emojize(emoji_symbol, use_aliases=True))"
   ]
  },
  {
   "cell_type": "markdown",
   "metadata": {},
   "source": [
    "Introduce the students to another \"tool\" for decision making: AND / OR logic and have the students explore if they can solve the problem using this tool. Is it easier to solve the problem with this tool? Does this make the logic more understandable? Will using OR instead of AND work?"
   ]
  },
  {
   "cell_type": "code",
   "execution_count": null,
   "metadata": {
    "collapsed": false
   },
   "outputs": [],
   "source": [
    "score = int(input('Please enter your score: '))\n",
    "\n",
    "if (score >= 60 and score < 70):\n",
    "    letter_grade = 'D'\n",
    "    emoji_symbol = ':anguished:'\n",
    "\n",
    "if (score >= 70 and score < 80):\n",
    "    letter_grade = 'C'\n",
    "    emoji_symbol = ':disappointed:'\n",
    "\n",
    "if (score >= 80 and score < 90):\n",
    "    letter_grade = 'B'\n",
    "    emoji_symbol = ':satisfied:'\n",
    "\n",
    "if (score >= 90):\n",
    "    letter_grade = 'A'\n",
    "    emoji_symbol = ':smile:'\n",
    "    \n",
    "if (score < 60):\n",
    "    letter_grade = 'F'\n",
    "    emoji_symbol = ':sweat:'\n",
    "\n",
    "print('Letter grade is ' + letter_grade + ' : ' + emoji.emojize(emoji_symbol, use_aliases=True))"
   ]
  },
  {
   "cell_type": "markdown",
   "metadata": {},
   "source": [
    "Introduce the students to yet another \"tool\" for decision making: ELSE and ELSE IF and have the students explore if they can solve the problem using this tool. Again explore the same questions with the new tool: Is it easier to solve the problem with this tool? Does this make the logic more understandable?"
   ]
  },
  {
   "cell_type": "code",
   "execution_count": null,
   "metadata": {
    "collapsed": false
   },
   "outputs": [],
   "source": [
    "score = int(input('Please enter your score: '))\n",
    "\n",
    "if (score >= 90):\n",
    "    letter_grade = 'A'\n",
    "    emoji_symbol = ':smile:' \n",
    "    \n",
    "elif (score >= 80):\n",
    "    letter_grade = 'B'\n",
    "    emoji_symbol = ':satisfied:'\n",
    "    \n",
    "elif (score >= 70):\n",
    "    letter_grade = 'C'\n",
    "    emoji_symbol = ':disappointed:'    \n",
    "\n",
    "elif (score >= 60):\n",
    "    letter_grade = 'D'\n",
    "    emoji_symbol = ':anguished:'\n",
    "\n",
    "else:\n",
    "    letter_grade = 'F'\n",
    "    emoji_symbol = ':sweat:'\n",
    "\n",
    "print('Letter grade is ' + letter_grade + ' : ' + emoji.emojize(emoji_symbol, use_aliases=True))"
   ]
  },
  {
   "cell_type": "markdown",
   "metadata": {},
   "source": [
    "Introduce the idea that a variable can hold more than one value in the form of a list. Discuss how to access elements inside a list - introduce the idea of a loop."
   ]
  },
  {
   "cell_type": "code",
   "execution_count": null,
   "metadata": {
    "collapsed": false
   },
   "outputs": [],
   "source": [
    "sports = [\n",
    "    ':soccer:',\n",
    "    ':tennis:',\n",
    "    ':golf:',\n",
    "    ':basketball:',\n",
    "    ':rugby_football:',\n",
    "]\n",
    "\n",
    "message = 'My favorite sports are '\n",
    "for i in range(0, 5):\n",
    "    message += ' ' + sports[i]\n",
    "\n",
    "message = emoji.emojize(message, use_aliases=True)\n",
    "print(message)"
   ]
  },
  {
   "cell_type": "markdown",
   "metadata": {},
   "source": [
    "Discuss an alternative form of looping"
   ]
  },
  {
   "cell_type": "code",
   "execution_count": null,
   "metadata": {
    "collapsed": false
   },
   "outputs": [],
   "source": [
    "sports = [\n",
    "    ':soccer:',\n",
    "    ':tennis:',\n",
    "    ':golf:',\n",
    "    ':basketball:',\n",
    "    ':rugby_football:',\n",
    "]\n",
    "\n",
    "message = 'My favorite sports are '\n",
    "\n",
    "for each_sport in sports:\n",
    "    message += ' ' + each_sport\n",
    "\n",
    "message = emoji.emojize(message, use_aliases=True)\n",
    "print(message)"
   ]
  },
  {
   "cell_type": "markdown",
   "metadata": {},
   "source": [
    "If there is time and interest, can discuss more advanced programming concepts such as\n",
    "1. Combining IF statements to make NESTED IF statements\n",
    "2. Combining IF statements with LOOPS\n",
    "3. Creating functions.\n",
    "4. Creating classes."
   ]
  }
 ],
 "metadata": {
  "kernelspec": {
   "display_name": "Python 3",
   "language": "python",
   "name": "python3"
  },
  "language_info": {
   "codemirror_mode": {
    "name": "ipython",
    "version": 3
   },
   "file_extension": ".py",
   "mimetype": "text/x-python",
   "name": "python",
   "nbconvert_exporter": "python",
   "pygments_lexer": "ipython3",
   "version": "3.6.0"
  }
 },
 "nbformat": 4,
 "nbformat_minor": 2
}
